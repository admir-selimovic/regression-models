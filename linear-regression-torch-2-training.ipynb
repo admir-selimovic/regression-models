{
  "nbformat": 4,
  "nbformat_minor": 0,
  "metadata": {
    "colab": {
      "provenance": []
    },
    "kernelspec": {
      "name": "python3",
      "display_name": "Python 3"
    },
    "language_info": {
      "name": "python"
    }
  },
  "cells": [
    {
      "cell_type": "code",
      "execution_count": null,
      "metadata": {
        "id": "q8FIzwerJCHb"
      },
      "outputs": [],
      "source": [
        "import numpy as np\n",
        "import matplotlib.pyplot as plt\n",
        "import torch"
      ]
    },
    {
      "cell_type": "code",
      "source": [
        "# Define a class for plotting\n",
        "class plot_diagram():\n",
        "    \"\"\"\n",
        "    A class for creating a plot diagram to visualize the training process.\n",
        "\n",
        "    Args:\n",
        "        X (torch.Tensor): Input data tensor.\n",
        "        Y (torch.Tensor): Target data tensor.\n",
        "        w (torch.Tensor): Model parameter tensor.\n",
        "        stop (float): Stop value for parameter iteration.\n",
        "        go (bool, optional): Indicator for plotting. Defaults to False.\n",
        "    \"\"\"\n",
        "\n",
        "    # Constructor\n",
        "    def __init__(self, X, Y, w, stop, go=False):\n",
        "        start = w.data\n",
        "        self.error = []\n",
        "        self.parameter = []\n",
        "        self.X = X.numpy()\n",
        "        self.Y = Y.numpy()\n",
        "        self.parameter_values = torch.arange(start, stop)\n",
        "        self.Loss_function = [criterion(forward(X), Y) for _ in self.parameter_values]\n",
        "        w.data = start\n",
        "\n",
        "    # Executor\n",
        "    def __call__(self, Yhat, w, error, n):\n",
        "        \"\"\"\n",
        "        Call method to plot data and visualize the training process.\n",
        "\n",
        "        Args:\n",
        "            Yhat (torch.Tensor): Predicted output tensor.\n",
        "            w (torch.Tensor): Model parameter tensor.\n",
        "            error (float): Current loss value.\n",
        "            n (int): Current iteration number.\n",
        "        \"\"\"\n",
        "        self.error.append(error)\n",
        "        self.parameter.append(w.data)\n",
        "        plt.subplot(212)\n",
        "        plt.plot(self.X, Yhat.detach().numpy())\n",
        "        plt.plot(self.X, self.Y, 'ro')\n",
        "        plt.xlabel(\"A\")\n",
        "        plt.ylim(-20, 20)\n",
        "        plt.subplot(211)\n",
        "        plt.title(\"Data Space (top) Estimated Line (bottom) Iteration \" + str(n))\n",
        "        plt.plot(self.parameter_values.numpy(), [c.detach().numpy() for c in self.Loss_function])\n",
        "        plt.plot([p.detach().numpy() for p in self.parameter], self.error, 'ro')\n",
        "        plt.xlabel(\"B\")\n",
        "        plt.figure()\n",
        "\n",
        "    # Destructor\n",
        "    def __del__(self):\n",
        "        plt.close('all')"
      ],
      "metadata": {
        "id": "7Gm3Kzg-S0nP"
      },
      "execution_count": null,
      "outputs": []
    },
    {
      "cell_type": "markdown",
      "source": [
        "# Create data"
      ],
      "metadata": {
        "id": "dGrSnIXvTOki"
      }
    },
    {
      "cell_type": "code",
      "source": [
        "# Make some data\n",
        "# Create the f(X) with a slope of -3\n",
        "X = torch.arange(-3, 3, 0.1).view(-1, 1)\n",
        "f = -3 * X\n",
        "\n",
        "# Plot the line\n",
        "plt.plot(X.numpy(), f.numpy(), label='f')\n",
        "plt.xlabel('x')\n",
        "plt.ylabel('y')\n",
        "plt.legend()\n",
        "plt.show()"
      ],
      "metadata": {
        "id": "WvNBIAjNS5DC"
      },
      "execution_count": null,
      "outputs": []
    },
    {
      "cell_type": "code",
      "source": [
        "# Add noise to simulate real data\n",
        "Y = f + 0.1 * torch.randn(X.size())\n",
        "\n",
        "# Plot the data points\n",
        "plt.plot(X.numpy(), Y.numpy(), 'rx', label='Y')\n",
        "plt.plot(X.numpy(), f.numpy(), label='f')\n",
        "plt.xlabel('x')\n",
        "plt.ylabel('y')\n",
        "plt.legend()\n",
        "plt.show()"
      ],
      "metadata": {
        "id": "tG55tKrRS_Xk"
      },
      "execution_count": null,
      "outputs": []
    },
    {
      "cell_type": "markdown",
      "source": [
        "# The model"
      ],
      "metadata": {
        "id": "IlRlmO0yTIOs"
      }
    },
    {
      "cell_type": "code",
      "source": [
        "# Create forward function for prediction\n",
        "def forward(x):\n",
        "    \"\"\"\n",
        "    Forward pass of the linear regression model.\n",
        "\n",
        "    Args:\n",
        "        x (torch.Tensor): Input data tensor.\n",
        "\n",
        "    Returns:\n",
        "        torch.Tensor: Predicted output tensor.\n",
        "    \"\"\"\n",
        "    return w * x\n",
        "\n",
        "# Define the cost or criterion function using MSE (Mean Square Error)\n",
        "def criterion(yhat, y):\n",
        "    \"\"\"\n",
        "    Compute the mean square error loss between predicted and target tensors.\n",
        "\n",
        "    Args:\n",
        "        yhat (torch.Tensor): Predicted output tensor.\n",
        "        y (torch.Tensor): Target output tensor.\n",
        "\n",
        "    Returns:\n",
        "        torch.Tensor: Mean square error loss tensor.\n",
        "    \"\"\"\n",
        "    return torch.mean((yhat - y) ** 2)\n",
        "\n",
        "# Define the train function\n",
        "def train_model(iter):\n",
        "    \"\"\"\n",
        "    Train the linear regression model for a given number of iterations.\n",
        "\n",
        "    Args:\n",
        "        iter (int): Number of iterations.\n",
        "    \"\"\"\n",
        "    for epoch in range(iter):\n",
        "        # Make predictions\n",
        "        Yhat = forward(X)\n",
        "\n",
        "        # Calculate the loss\n",
        "        loss = criterion(Yhat, Y)\n",
        "\n",
        "        # Visualize the data and parameters\n",
        "        gradient_plot(Yhat, w, loss.item(), epoch)\n",
        "\n",
        "        # Store the loss into a list\n",
        "        LOSS.append(loss.item())\n",
        "\n",
        "        # Backward pass: compute gradient of the loss with respect to all learnable parameters\n",
        "        loss.backward()\n",
        "\n",
        "        # Update parameters\n",
        "        w.data = w.data - lr * w.grad.data\n",
        "\n",
        "        # Zero the gradients before running the backward pass for the next iteration\n",
        "        w.grad.data.zero_()"
      ],
      "metadata": {
        "id": "m32a_6C8TGGl"
      },
      "execution_count": null,
      "outputs": []
    },
    {
      "cell_type": "code",
      "source": [
        "# Define the learning rate lr and an empty list LOSS to record the loss for each iteration\n",
        "lr = 0.1\n",
        "LOSS = []"
      ],
      "metadata": {
        "id": "h8JWOATsTWgY"
      },
      "execution_count": null,
      "outputs": []
    },
    {
      "cell_type": "code",
      "source": [
        "# Create a model parameter by setting the argument requires_grad to True\n",
        "w = torch.tensor(-10.0, requires_grad=True)"
      ],
      "metadata": {
        "id": "nyWCP7b2TfbF"
      },
      "execution_count": null,
      "outputs": []
    },
    {
      "cell_type": "code",
      "source": [
        "# Create a plot_diagram object to visualize data space and parameter space for each iteration during training\n",
        "gradient_plot = plot_diagram(X, Y, w, stop=5)"
      ],
      "metadata": {
        "id": "evBF5qCWTf1V"
      },
      "execution_count": null,
      "outputs": []
    },
    {
      "cell_type": "code",
      "source": [
        "# Train the model for n iterations\n",
        "train_model(4)"
      ],
      "metadata": {
        "id": "BUxwgeWgThHX"
      },
      "execution_count": null,
      "outputs": []
    },
    {
      "cell_type": "code",
      "source": [
        "# Plot the loss for each iteration\n",
        "plt.plot(LOSS)\n",
        "plt.tight_layout()\n",
        "plt.xlabel(\"Epoch/Iterations\")\n",
        "plt.ylabel(\"Cost\")"
      ],
      "metadata": {
        "id": "_r1RXBrXTsrE"
      },
      "execution_count": null,
      "outputs": []
    }
  ]
}
