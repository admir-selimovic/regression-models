{
  "nbformat": 4,
  "nbformat_minor": 0,
  "metadata": {
    "colab": {
      "provenance": []
    },
    "kernelspec": {
      "name": "python3",
      "display_name": "Python 3"
    },
    "language_info": {
      "name": "python"
    }
  },
  "cells": [
    {
      "cell_type": "code",
      "source": [
        "import torch\n",
        "import numpy as np\n",
        "import matplotlib.pyplot as plt\n",
        "from torch import nn, optim\n",
        "from torch.utils.data import Dataset, DataLoader\n",
        "import torchvision.transforms as transforms"
      ],
      "metadata": {
        "id": "qWlrvEWr7F71"
      },
      "execution_count": null,
      "outputs": []
    },
    {
      "cell_type": "code",
      "source": [
        "# Set a manual seed for reproducibility\n",
        "torch.manual_seed(1)"
      ],
      "metadata": {
        "id": "KpSWB04d7Kko"
      },
      "execution_count": null,
      "outputs": []
    },
    {
      "cell_type": "markdown",
      "source": [
        "# Dataset"
      ],
      "metadata": {
        "id": "H5_CWZOb9trS"
      }
    },
    {
      "cell_type": "code",
      "source": [
        "class Data(Dataset):\n",
        "    \"\"\"\n",
        "    Dataset class for creating two-dimensional features and two targets.\n",
        "\n",
        "    Attributes:\n",
        "    - x (tensor): features\n",
        "    - y (tensor): labels\n",
        "    - len (int): length of dataset\n",
        "    \"\"\"\n",
        "    def __init__(self):\n",
        "        # Initialize data and labels\n",
        "        self.x = torch.zeros(20, 2)\n",
        "        self.x[:, 0] = torch.arange(-1, 1, 0.1)\n",
        "        self.x[:, 1] = torch.arange(-1, 1, 0.1)\n",
        "        self.w = torch.tensor([[1.0, -1.0], [1.0, 3.0]])\n",
        "        self.b = torch.tensor([[1.0, -1.0]])\n",
        "        self.f = torch.mm(self.x, self.w) + self.b\n",
        "        self.y = self.f + 0.001 * torch.randn((self.x.shape[0], 1))\n",
        "        self.len = self.x.shape[0]\n",
        "\n",
        "    def __getitem__(self, index):\n",
        "        \"\"\"\n",
        "        Retrieve a single data point and its label.\n",
        "\n",
        "        Inputs:\n",
        "        - index (int): index of the item\n",
        "\n",
        "        Outputs:\n",
        "        - tuple: features and label of the item at the given index\n",
        "        \"\"\"\n",
        "        return self.x[index], self.y[index]\n",
        "\n",
        "    def __len__(self):\n",
        "        \"\"\"\n",
        "        Return the total number of data points.\n",
        "\n",
        "        Outputs:\n",
        "        - int: length of the dataset\n",
        "        \"\"\"\n",
        "        return self.len"
      ],
      "metadata": {
        "id": "FORkzMZ97LEP"
      },
      "execution_count": null,
      "outputs": []
    },
    {
      "cell_type": "code",
      "source": [
        "# Create an instance of the Data class\n",
        "data_set = Data()"
      ],
      "metadata": {
        "id": "4B6kbKio8mrB"
      },
      "execution_count": null,
      "outputs": []
    },
    {
      "cell_type": "markdown",
      "source": [
        "# Model"
      ],
      "metadata": {
        "id": "Xq8IYBrI9zPr"
      }
    },
    {
      "cell_type": "code",
      "source": [
        "class linear_regression(nn.Module):\n",
        "    \"\"\"\n",
        "    Linear regression model class\n",
        "\n",
        "    Attributes:\n",
        "    - linear (nn.Module): linear layer\n",
        "    \"\"\"\n",
        "    def __init__(self, input_size, output_size):\n",
        "        \"\"\"\n",
        "        Initialize the model with a linear layer.\n",
        "\n",
        "        Inputs:\n",
        "        - input_size (int): dimensionality of input features\n",
        "        - output_size (int): dimensionality of output\n",
        "        \"\"\"\n",
        "        super(linear_regression, self).__init__()\n",
        "        self.linear = nn.Linear(input_size, output_size)\n",
        "\n",
        "    def forward(self, x):\n",
        "        \"\"\"\n",
        "        Perform the forward pass.\n",
        "\n",
        "        Inputs:\n",
        "        - x (tensor): input features\n",
        "\n",
        "        Outputs:\n",
        "        - tensor: predictions\n",
        "        \"\"\"\n",
        "        yhat = self.linear(x)\n",
        "        return yhat"
      ],
      "metadata": {
        "id": "mw5CNgj08mon"
      },
      "execution_count": null,
      "outputs": []
    },
    {
      "cell_type": "code",
      "source": [
        "# Create an instance of the linear_regression class\n",
        "model = linear_regression(2, 2)"
      ],
      "metadata": {
        "id": "2oH4t6Jf9Acl"
      },
      "execution_count": null,
      "outputs": []
    },
    {
      "cell_type": "markdown",
      "source": [
        "# Model settings"
      ],
      "metadata": {
        "id": "xTuGWcL_933_"
      }
    },
    {
      "cell_type": "code",
      "source": [
        "# Initialize the optimizer and loss function\n",
        "optimizer = optim.SGD(model.parameters(), lr=0.1)\n",
        "criterion = nn.MSELoss()"
      ],
      "metadata": {
        "id": "ipL6us6u8mtW"
      },
      "execution_count": null,
      "outputs": []
    },
    {
      "cell_type": "code",
      "source": [
        "# Create DataLoader for batching\n",
        "train_loader = DataLoader(dataset=data_set, batch_size=5)"
      ],
      "metadata": {
        "id": "s89KmuGt8ylj"
      },
      "execution_count": null,
      "outputs": []
    },
    {
      "cell_type": "markdown",
      "source": [
        "# Training"
      ],
      "metadata": {
        "id": "5bNC3PSX_LR2"
      }
    },
    {
      "cell_type": "code",
      "source": [
        "# Train the Model via Mini-Batch Gradient Descent\n",
        "LOSS = []\n",
        "epochs = 100\n",
        "\n",
        "for epoch in range(epochs):\n",
        "    for x, y in train_loader:\n",
        "        yhat = model(x)\n",
        "        loss = criterion(yhat, y)\n",
        "        LOSS.append(loss.item())\n",
        "        optimizer.zero_grad()\n",
        "        loss.backward()\n",
        "        optimizer.step()"
      ],
      "metadata": {
        "id": "_thc6uTU8yoF"
      },
      "execution_count": null,
      "outputs": []
    },
    {
      "cell_type": "markdown",
      "source": [
        "# Plot"
      ],
      "metadata": {
        "id": "Dfkb6jhO_OGw"
      }
    },
    {
      "cell_type": "code",
      "source": [
        "# Plot the Loss Curve\n",
        "plt.plot(LOSS)\n",
        "plt.xlabel(\"iterations \")\n",
        "plt.ylabel(\"Cost/total loss \")\n",
        "plt.show()"
      ],
      "metadata": {
        "id": "KyLZKed58yqc"
      },
      "execution_count": null,
      "outputs": []
    }
  ]
}
