{
  "nbformat": 4,
  "nbformat_minor": 0,
  "metadata": {
    "colab": {
      "provenance": []
    },
    "kernelspec": {
      "name": "python3",
      "display_name": "Python 3"
    },
    "language_info": {
      "name": "python"
    }
  },
  "cells": [
    {
      "cell_type": "code",
      "execution_count": null,
      "metadata": {
        "id": "o604x6AS7u1T"
      },
      "outputs": [],
      "source": [
        "from torch import nn\n",
        "import torch\n",
        "import numpy as np\n",
        "import matplotlib.pyplot as plt\n",
        "from torch import nn,optim\n",
        "from torch.utils.data import Dataset, DataLoader"
      ]
    },
    {
      "cell_type": "code",
      "source": [
        "# Set random seed for reproducibility\n",
        "torch.manual_seed(1)"
      ],
      "metadata": {
        "id": "_xfu1G_f78ML"
      },
      "execution_count": null,
      "outputs": []
    },
    {
      "cell_type": "markdown",
      "source": [
        "# Data class"
      ],
      "metadata": {
        "id": "PXz2GKnN8Dpz"
      }
    },
    {
      "cell_type": "code",
      "source": [
        "class Data(Dataset):\n",
        "    \"\"\"A custom dataset class for generating data points with labels.\"\"\"\n",
        "\n",
        "    def __init__(self, train=True):\n",
        "        \"\"\"Initialize the dataset with data points and labels.\"\"\"\n",
        "        if train:\n",
        "            self.x = torch.arange(-3, 3, 0.1).view(-1, 1)\n",
        "            self.f = -3 * self.x + 1\n",
        "            self.y = self.f + 0.1 * torch.randn(self.x.size())\n",
        "            self.len = self.x.shape[0]\n",
        "            if train:\n",
        "                self.y[50:] = 20\n",
        "        else:\n",
        "            self.x = torch.arange(-3, 3, 0.1).view(-1, 1)\n",
        "            self.y = -3 * self.x + 1\n",
        "            self.len = self.x.shape[0]\n",
        "\n",
        "    def __getitem__(self, index):\n",
        "        \"\"\"Get a single data point and its label.\"\"\"\n",
        "        return self.x[index], self.y[index]\n",
        "\n",
        "    def __len__(self):\n",
        "        \"\"\"Get the length of the dataset.\"\"\"\n",
        "        return self.len"
      ],
      "metadata": {
        "id": "nD1iFKH18B0n"
      },
      "execution_count": null,
      "outputs": []
    },
    {
      "cell_type": "code",
      "source": [
        "# Create train_data object and val_data object\n",
        "train_data = Data()\n",
        "val_data = Data(train=False)"
      ],
      "metadata": {
        "id": "F-UJSdPI8Khm"
      },
      "execution_count": null,
      "outputs": []
    },
    {
      "cell_type": "code",
      "source": [
        "plt.plot(train_data.x.numpy(), train_data.y.numpy(), 'xr', label='training data')\n",
        "plt.plot(val_data.x.numpy(), val_data.y.numpy(), 'xy', label='validation data')\n",
        "plt.plot(train_data.x.numpy(), train_data.f.numpy(), label='true function')\n",
        "plt.xlabel('x')\n",
        "plt.ylabel('y')\n",
        "plt.legend(loc='upper right')\n",
        "plt.show()"
      ],
      "metadata": {
        "id": "YWx7X3lc8Lxw"
      },
      "execution_count": null,
      "outputs": []
    },
    {
      "cell_type": "markdown",
      "source": [
        "# Linear regression class"
      ],
      "metadata": {
        "id": "sDfZUXHW8k0J"
      }
    },
    {
      "cell_type": "code",
      "source": [
        "class linear_regression(nn.Module):\n",
        "    \"\"\"A custom linear regression model class.\"\"\"\n",
        "\n",
        "    def __init__(self, input_size, output_size):\n",
        "        \"\"\"Initialize the linear regression model.\"\"\"\n",
        "        super(linear_regression, self).__init__()\n",
        "        self.linear = nn.Linear(input_size, output_size)\n",
        "\n",
        "    def forward(self, x):\n",
        "        \"\"\"Forward pass through the model.\"\"\"\n",
        "        yhat = self.linear(x)\n",
        "        return yhat"
      ],
      "metadata": {
        "id": "ShlccBE-8jGj"
      },
      "execution_count": null,
      "outputs": []
    },
    {
      "cell_type": "code",
      "source": [
        "# Create the model object\n",
        "model = linear_regression(1, 1)"
      ],
      "metadata": {
        "id": "inetCqII8ovA"
      },
      "execution_count": null,
      "outputs": []
    },
    {
      "cell_type": "code",
      "source": [
        "# Create optimizer, cost function, and data loader object\n",
        "optimizer = optim.SGD(model.parameters(), lr=0.1)\n",
        "criterion = nn.MSELoss()\n",
        "trainloader = DataLoader(dataset=train_data, batch_size=1)"
      ],
      "metadata": {
        "id": "AF8XUTEx8qK4"
      },
      "execution_count": null,
      "outputs": []
    },
    {
      "cell_type": "markdown",
      "source": [
        "# Early stopping"
      ],
      "metadata": {
        "id": "V0d8myTw8wEQ"
      }
    },
    {
      "cell_type": "code",
      "source": [
        "# Train the model with early stopping and save checkpoints\n",
        "LOSS_TRAIN = []\n",
        "LOSS_VAL = []\n",
        "n = 1\n",
        "min_loss = 1000"
      ],
      "metadata": {
        "id": "es8-bzpt8rMg"
      },
      "execution_count": null,
      "outputs": []
    },
    {
      "cell_type": "code",
      "source": [
        "# Define the function for training the model with early stopping criterion\n",
        "def train_model_early_stopping(epochs, min_loss):\n",
        "    \"\"\"\n",
        "    Train the model using early stopping criterion.\n",
        "\n",
        "    Args:\n",
        "    epochs (int): Number of training epochs.\n",
        "    min_loss (float): Initial minimum validation loss.\n",
        "    \"\"\"\n",
        "    for epoch in range(epochs):\n",
        "        for x, y in trainloader:\n",
        "            yhat = model(x)\n",
        "            loss = criterion(yhat, y)\n",
        "            optimizer.zero_grad()\n",
        "            loss.backward()\n",
        "            optimizer.step()\n",
        "\n",
        "            # Calculate training and validation losses\n",
        "            loss_train = criterion(model(train_data.x), train_data.y).item()\n",
        "            loss_val = criterion(model(val_data.x), val_data.y).item()\n",
        "\n",
        "            # Store losses in respective lists\n",
        "            LOSS_TRAIN.append(loss_train)\n",
        "            LOSS_VAL.append(loss_val)\n",
        "\n",
        "            # Update min_loss and save the model if validation loss improves\n",
        "            if loss_val < min_loss:\n",
        "                value = epoch\n",
        "                min_loss = loss_val\n",
        "                torch.save(model.state_dict(), 'best_model.pt')"
      ],
      "metadata": {
        "id": "JPqkm4bz89bf"
      },
      "execution_count": null,
      "outputs": []
    },
    {
      "cell_type": "code",
      "source": [
        "# Train the model with early stopping criterion\n",
        "train_model_early_stopping(20, min_loss)"
      ],
      "metadata": {
        "id": "7IdXqs5d9Epc"
      },
      "execution_count": null,
      "outputs": []
    },
    {
      "cell_type": "code",
      "source": [
        "# Plot the loss during training\n",
        "plt.plot(LOSS_TRAIN, label='training cost')\n",
        "plt.plot(LOSS_VAL, label='validation cost')\n",
        "plt.xlabel(\"Iterations\")\n",
        "plt.ylabel(\"Cost\")\n",
        "plt.legend(loc='upper right')\n",
        "plt.show()"
      ],
      "metadata": {
        "id": "O8WV4iHK9QA9"
      },
      "execution_count": null,
      "outputs": []
    },
    {
      "cell_type": "markdown",
      "source": [
        "# Model comparison"
      ],
      "metadata": {
        "id": "r85b999A-PLg"
      }
    },
    {
      "cell_type": "code",
      "source": [
        "# Create a new linear regression model object\n",
        "model_best = linear_regression(1,1)\n",
        "\n",
        "# Assign the best model to model_best\n",
        "model_best.load_state_dict(torch.load('best_model.pt'))\n",
        "\n",
        "# Plot\n",
        "plt.plot(model_best(val_data.x).data.numpy(), label = 'best model')\n",
        "plt.plot(model(val_data.x).data.numpy(), label = 'maximum iterations')\n",
        "plt.plot(val_data.y.numpy(), 'rx', label = 'true line')\n",
        "plt.legend()\n",
        "plt.show()"
      ],
      "metadata": {
        "id": "EYJ5HBr49Rbb"
      },
      "execution_count": null,
      "outputs": []
    },
    {
      "cell_type": "code",
      "source": [],
      "metadata": {
        "id": "R26sfoLL9uWz"
      },
      "execution_count": null,
      "outputs": []
    }
  ]
}
