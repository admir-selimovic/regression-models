{
  "nbformat": 4,
  "nbformat_minor": 0,
  "metadata": {
    "colab": {
      "provenance": []
    },
    "kernelspec": {
      "name": "python3",
      "display_name": "Python 3"
    },
    "language_info": {
      "name": "python"
    }
  },
  "cells": [
    {
      "cell_type": "code",
      "source": [
        "import numpy as np\n",
        "import matplotlib.pyplot as plt\n",
        "from sklearn.datasets import load_iris"
      ],
      "metadata": {
        "id": "neFaMEqlB8Uk"
      },
      "execution_count": null,
      "outputs": []
    },
    {
      "cell_type": "markdown",
      "source": [
        "Implements logistic regression using gradient descent to classify Iris dataset samples into two classes. Defines functions for the sigmoid activation, cost calculation, weight updates, and training the model. Loads the Iris dataset, trains the logistic regression model, plots the cost history, and calculates the accuracy of the model's predictions."
      ],
      "metadata": {
        "id": "3zNiAYw2C1hG"
      }
    },
    {
      "cell_type": "code",
      "execution_count": null,
      "metadata": {
        "id": "3-uZidHOB1GX"
      },
      "outputs": [],
      "source": [
        "# Define the sigmoid function for logistic transformation\n",
        "def sigmoid(z):\n",
        "    return 1.0 / (1 + np.exp(-z))\n",
        "\n",
        "# Define the predict function\n",
        "def predict(features, weights):\n",
        "    \"\"\"\n",
        "    Predict binary labels using logistic regression.\n",
        "\n",
        "    Parameters:\n",
        "        features (array-like): Input features.\n",
        "        weights (array-like): Current weight values.\n",
        "\n",
        "    Returns:\n",
        "        array-like: Predicted probabilities.\n",
        "    \"\"\"\n",
        "    z = np.dot(features, weights)\n",
        "    predictions = sigmoid(z)\n",
        "    return predictions\n",
        "\n",
        "\n",
        "# Define the logistic cost function\n",
        "def cost_function(predictions, labels):\n",
        "    \"\"\"\n",
        "    Compute the logistic cost function.\n",
        "\n",
        "    Parameters:\n",
        "        predictions (array-like): Predicted probabilities.\n",
        "        labels (array-like): True binary labels.\n",
        "\n",
        "    Returns:\n",
        "        float: The computed cost.\n",
        "    \"\"\"\n",
        "    cost = (-labels * np.log(predictions) - (1 - labels) * np.log(1 - predictions)).mean()\n",
        "    return cost\n",
        "\n",
        "# Update the weights using gradient descent\n",
        "def update_weights(features, labels, weights, lr):\n",
        "    \"\"\"\n",
        "    Update the weights using gradient descent.\n",
        "\n",
        "    Parameters:\n",
        "        features (array-like): Input features.\n",
        "        labels (array-like): True binary labels.\n",
        "        weights (array-like): Current weight values.\n",
        "        lr (float): Learning rate.\n",
        "\n",
        "    Returns:\n",
        "        array-like: Updated weight values.\n",
        "    \"\"\"\n",
        "    predictions = predict(features, weights)\n",
        "    gradient = np.dot(features.T, predictions - labels) / features.size\n",
        "    weights -= lr * gradient\n",
        "    return weights\n",
        "\n",
        "# Train the logistic regression model\n",
        "def train(features, labels, lr, iters):\n",
        "    \"\"\"\n",
        "    Train the logistic regression model using gradient descent.\n",
        "\n",
        "    Parameters:\n",
        "        features (array-like): Input features.\n",
        "        labels (array-like): True binary labels.\n",
        "        lr (float): Learning rate.\n",
        "        iters (int): Number of iterations.\n",
        "\n",
        "    Returns:\n",
        "        tuple: Updated weight values, cost history, predicted probabilities.\n",
        "    \"\"\"\n",
        "    cost_history = []\n",
        "    weights = np.zeros(features.shape[1])  # Initialize weights to zeros\n",
        "\n",
        "    for i in range(iters):\n",
        "        weights = update_weights(features, labels, weights, lr)\n",
        "        predictions = predict(features, weights)\n",
        "        cost = cost_function(predictions, labels)\n",
        "        cost_history.append(cost)\n",
        "        if i % 10000 == 0:\n",
        "            print(f'iteration: {i}; cost: {cost}')\n",
        "\n",
        "    return weights, cost_history, predictions"
      ]
    },
    {
      "cell_type": "code",
      "source": [
        "# Load the Iris dataset and extract the first two features\n",
        "iris = load_iris()\n",
        "features = iris.data[:, :2]\n",
        "labels = (iris.target != 0) * 1  # Convert target labels to binary\n",
        "\n",
        "# Set learning rate and number of iterations, then train the model\n",
        "lr = 0.001\n",
        "iters = 100000\n",
        "out = train(features, labels, lr, iters)\n",
        "\n",
        "# Extract the cost history for plotting\n",
        "cost_h = out[1]"
      ],
      "metadata": {
        "id": "1XIA_Bv6CCuM"
      },
      "execution_count": null,
      "outputs": []
    },
    {
      "cell_type": "code",
      "source": [
        "# Plot the cost history\n",
        "plt.style.use('seaborn-white')\n",
        "plt.figure(figsize=(7, 7))\n",
        "plt.plot(cost_h, color='skyblue', linewidth=1.0)\n",
        "plt.ylabel('cost', fontsize=10)\n",
        "plt.show()\n",
        "\n",
        "# Convert predicted probabilities to binary labels using threshold 0.5\n",
        "predicted_labels = (out[2] >= 0.5).astype(int)\n",
        "\n",
        "# Calculate and print the accuracy of the model\n",
        "accuracy_value = 1.0 - np.mean(np.abs(predicted_labels - labels))\n",
        "print(\"Accuracy:\", accuracy_value)"
      ],
      "metadata": {
        "id": "4K2WCm9OCpi2"
      },
      "execution_count": null,
      "outputs": []
    }
  ]
}