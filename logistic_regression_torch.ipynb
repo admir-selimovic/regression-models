{
  "nbformat": 4,
  "nbformat_minor": 0,
  "metadata": {
    "colab": {
      "provenance": []
    },
    "kernelspec": {
      "name": "python3",
      "display_name": "Python 3"
    },
    "language_info": {
      "name": "python"
    }
  },
  "cells": [
    {
      "cell_type": "code",
      "execution_count": null,
      "metadata": {
        "id": "jqMspiT7BwPV"
      },
      "outputs": [],
      "source": [
        "import torch\n",
        "import torch.nn as nn\n",
        "import matplotlib.pyplot as plt"
      ]
    },
    {
      "cell_type": "code",
      "source": [
        "# Set Seed for Reproducibility\n",
        "torch.manual_seed(2)"
      ],
      "metadata": {
        "id": "gXZvo3ogB8mJ"
      },
      "execution_count": null,
      "outputs": []
    },
    {
      "cell_type": "markdown",
      "source": [
        "# Logistic function"
      ],
      "metadata": {
        "id": "TBT1teDECR4f"
      }
    },
    {
      "cell_type": "code",
      "source": [
        "# Create a tensor ranging from -100 to 100\n",
        "z = torch.arange(-100, 100, 0.1).view(-1, 1)\n",
        "\n",
        "# Create sigmoid object\n",
        "sig = nn.Sigmoid()\n",
        "\n",
        "# Apply sigmoid to z and plot\n",
        "yhat = sig(z)\n",
        "plt.plot(z.numpy(), yhat.numpy())\n",
        "plt.xlabel('z')\n",
        "plt.ylabel('yhat')"
      ],
      "metadata": {
        "id": "DVFr1ORIB8x4"
      },
      "execution_count": null,
      "outputs": []
    },
    {
      "cell_type": "markdown",
      "source": [
        "# Logistic regression with nn.Sequential"
      ],
      "metadata": {
        "id": "pAvD_pQHCg1e"
      }
    },
    {
      "cell_type": "code",
      "source": [
        "# Create single and multiple sample tensors\n",
        "x = torch.tensor([[1.0]])\n",
        "X = torch.tensor([[1.0], [100]])\n",
        "\n",
        "# Create model using nn.Sequential\n",
        "model = nn.Sequential(nn.Linear(1, 1), nn.Sigmoid())\n",
        "\n",
        "# Print the parameters\n",
        "print(\"Parameters:\", list(model.parameters()))\n",
        "\n",
        "# Make predictions\n",
        "yhat = model(x)\n",
        "print(\"Prediction:\", yhat)\n",
        "\n",
        "# Make multiple predictions\n",
        "yhat = model(X)"
      ],
      "metadata": {
        "id": "WdQ8cj7VCY02"
      },
      "execution_count": null,
      "outputs": []
    },
    {
      "cell_type": "markdown",
      "source": [
        "# Extend nn.Sequential for multi-dimensional inputs"
      ],
      "metadata": {
        "id": "0jFo_Z9PCrtE"
      }
    },
    {
      "cell_type": "code",
      "source": [
        "# Create single and multiple sample tensors\n",
        "x = torch.tensor([[1.0, 1.0]])\n",
        "X = torch.tensor([[1.0, 1.0], [1.0, 2.0], [1.0, 3.0]])\n",
        "\n",
        "# Create model using nn.Sequential\n",
        "model = nn.Sequential(nn.Linear(2, 1), nn.Sigmoid())\n",
        "\n",
        "# Print the parameters\n",
        "print(\"Parameters:\", list(model.parameters()))\n",
        "\n",
        "# Make predictions\n",
        "yhat = model(x)\n",
        "print(\"Prediction:\", yhat)\n",
        "\n",
        "# Make multiple predictions\n",
        "yhat = model(X)\n",
        "print(\"Predictions:\", yhat)"
      ],
      "metadata": {
        "id": "jGZCfvoQCpXK"
      },
      "execution_count": null,
      "outputs": []
    },
    {
      "cell_type": "markdown",
      "source": [
        "# Build custom modules for logistic regression\n"
      ],
      "metadata": {
        "id": "PXrAklpxCyTl"
      }
    },
    {
      "cell_type": "code",
      "source": [
        "class logistic_regression(nn.Module):\n",
        "    \"\"\"\n",
        "    Logistic Regression custom class\n",
        "    \"\"\"\n",
        "    def __init__(self, n_inputs):\n",
        "        super(logistic_regression, self).__init__()\n",
        "        self.linear = nn.Linear(n_inputs, 1)\n",
        "\n",
        "    def forward(self, x):\n",
        "        yhat = torch.sigmoid(self.linear(x))\n",
        "        return yhat\n",
        "\n",
        "# Create sample data\n",
        "X = torch.tensor([[-100.0], [0.0], [100.0]])\n",
        "\n",
        "# Create logistic regression model\n",
        "model = logistic_regression(1)\n",
        "\n",
        "# Print the parameters\n",
        "print(\"Parameters:\", list(model.parameters()))\n",
        "\n",
        "# Make predictions\n",
        "yhat = model(x)\n",
        "print(\"Prediction:\", yhat)\n",
        "\n",
        "# Make multiple predictions\n",
        "yhat = model(X)\n",
        "print(\"Predictions:\", yhat)"
      ],
      "metadata": {
        "id": "pBue_UFpCwmL"
      },
      "execution_count": null,
      "outputs": []
    },
    {
      "cell_type": "markdown",
      "source": [
        "# Model with multi-dimensional input\n"
      ],
      "metadata": {
        "id": "hx9Y7-1tC9kx"
      }
    },
    {
      "cell_type": "code",
      "source": [
        "# Create model\n",
        "model = logistic_regression(2)\n",
        "\n",
        "# Create sample data\n",
        "x = torch.tensor([[1.0, 2.0]])\n",
        "X = torch.tensor([[100, -100], [0.0, 0.0], [-100, 100]])\n",
        "\n",
        "# Make predictions\n",
        "yhat = model(x)\n",
        "print(\"Prediction:\", yhat)\n",
        "\n",
        "# Make multiple predictions\n",
        "yhat = model(X)\n",
        "print(\"Predictions:\", yhat)"
      ],
      "metadata": {
        "id": "431hbtn6C4Ym"
      },
      "execution_count": null,
      "outputs": []
    }
  ]
}