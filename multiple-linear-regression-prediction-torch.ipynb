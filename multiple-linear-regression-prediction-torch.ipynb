{
  "nbformat": 4,
  "nbformat_minor": 0,
  "metadata": {
    "colab": {
      "provenance": []
    },
    "kernelspec": {
      "name": "python3",
      "display_name": "Python 3"
    },
    "language_info": {
      "name": "python"
    }
  },
  "cells": [
    {
      "cell_type": "code",
      "execution_count": null,
      "metadata": {
        "id": "UGHMHhx4FiZ9"
      },
      "outputs": [],
      "source": [
        "import torch\n",
        "from torch.nn import Linear\n",
        "from torch import nn, optim\n",
        "import numpy as np\n",
        "import matplotlib.pyplot as plt\n",
        "from mpl_toolkits.mplot3d import Axes3D\n",
        "from torch.utils.data import Dataset, DataLoader"
      ]
    },
    {
      "cell_type": "code",
      "source": [
        "torch.manual_seed(1)"
      ],
      "metadata": {
        "id": "CIzrlIFYGYIY"
      },
      "execution_count": null,
      "outputs": []
    },
    {
      "cell_type": "markdown",
      "source": [
        "# Linear model"
      ],
      "metadata": {
        "id": "3WxfXoy7GaaD"
      }
    },
    {
      "cell_type": "code",
      "source": [
        "# Create a linear model: y = x * w + b\n",
        "model = Linear(in_features=2, out_features=1)"
      ],
      "metadata": {
        "id": "Uo3EapevGZWI"
      },
      "execution_count": null,
      "outputs": []
    },
    {
      "cell_type": "code",
      "source": [
        "# Display model parameters\n",
        "list(model.parameters())"
      ],
      "metadata": {
        "id": "BvV1xr_cGfpC"
      },
      "execution_count": null,
      "outputs": []
    },
    {
      "cell_type": "code",
      "source": [
        "# Display model's state dictionary\n",
        "model.state_dict()"
      ],
      "metadata": {
        "id": "-nJjbQTuGgoE"
      },
      "execution_count": null,
      "outputs": []
    },
    {
      "cell_type": "code",
      "source": [
        "# Generate input sample\n",
        "X = torch.tensor([[1.0, 3.0]])\n",
        "X"
      ],
      "metadata": {
        "id": "m3eI03VmGh8c"
      },
      "execution_count": null,
      "outputs": []
    },
    {
      "cell_type": "code",
      "source": [
        "# Apply the model\n",
        "yhat = model(X)\n",
        "yhat"
      ],
      "metadata": {
        "id": "QhrzdRaMGi5n"
      },
      "execution_count": null,
      "outputs": []
    },
    {
      "cell_type": "code",
      "source": [
        "# Generate multiple input samples\n",
        "X = torch.tensor([[1.0, 3.0], [1.0, 2.0], [1.0, 3.0]])\n",
        "X"
      ],
      "metadata": {
        "id": "h9cBzNMHGkCg"
      },
      "execution_count": null,
      "outputs": []
    },
    {
      "cell_type": "code",
      "source": [
        "# Apply the model to multiple samples\n",
        "yhat = model(X)\n",
        "yhat"
      ],
      "metadata": {
        "id": "zExX6U35GlUV"
      },
      "execution_count": null,
      "outputs": []
    },
    {
      "cell_type": "markdown",
      "source": [
        "# Custom Modules"
      ],
      "metadata": {
        "id": "TvHYb5DnGp4d"
      }
    },
    {
      "cell_type": "code",
      "source": [
        "# Create a custom linear regression module\n",
        "class LR(nn.Module):\n",
        "    \"\"\"\n",
        "    Custom linear regression module.\n",
        "\n",
        "    Description:\n",
        "    This class defines a custom linear regression module using PyTorch's nn.Module. The constructor (__init__)\n",
        "    initializes the linear regression module with the specified input and output sizes. The module consists of a\n",
        "    single linear layer. The forward method performs the forward pass through the module, calculating the predictions\n",
        "    (out) based on the input data (x).\n",
        "\n",
        "    Args:\n",
        "    input_size (int): Number of input features.\n",
        "    output_size (int): Number of output features.\n",
        "\n",
        "    Attributes:\n",
        "    linear (nn.Linear): Linear layer representing the linear regression module.\n",
        "\n",
        "    Methods:\n",
        "    forward(x): Perform a forward pass through the module.\n",
        "\n",
        "    Example:\n",
        "    model = LR(input_size=2, output_size=1)\n",
        "    yhat = model(x)\n",
        "    \"\"\"\n",
        "\n",
        "    def __init__(self, input_size, output_size):\n",
        "        \"\"\"\n",
        "        Initialize the linear regression module.\n",
        "\n",
        "        Args:\n",
        "        input_size (int): Number of input features.\n",
        "        output_size (int): Number of output features.\n",
        "        \"\"\"\n",
        "        super(LR, self).__init__()\n",
        "        self.linear = nn.Linear(input_size, output_size)\n",
        "\n",
        "    def forward(self, x):\n",
        "        \"\"\"\n",
        "        Perform a forward pass through the module.\n",
        "\n",
        "        Args:\n",
        "        x (torch.Tensor): Input data tensor.\n",
        "\n",
        "        Returns:\n",
        "        torch.Tensor: Module's predictions (out).\n",
        "        \"\"\"\n",
        "        out = self.linear(x)\n",
        "        return out"
      ],
      "metadata": {
        "id": "rlP016pxGn7a"
      },
      "execution_count": null,
      "outputs": []
    },
    {
      "cell_type": "markdown",
      "source": [
        "# Lab: Prediction"
      ],
      "metadata": {
        "id": "5nFMEEMQGtEV"
      }
    },
    {
      "cell_type": "code",
      "source": [
        "# Set weight and bias tensors\n",
        "w = torch.tensor([[2.0], [3.0]], requires_grad=True)\n",
        "b = torch.tensor([[1.0]], requires_grad=True)"
      ],
      "metadata": {
        "id": "8PE4UeVZGrmg"
      },
      "execution_count": null,
      "outputs": []
    },
    {
      "cell_type": "code",
      "source": [
        "# Define the forward prediction function\n",
        "def forward(x):\n",
        "    yhat = torch.mm(x, w) + b\n",
        "    return yhat"
      ],
      "metadata": {
        "id": "i9zEiC5YGuyb"
      },
      "execution_count": null,
      "outputs": []
    },
    {
      "cell_type": "code",
      "source": [
        "# Calculate yhat for single input\n",
        "x = torch.tensor([[1.0, 2.0]])\n",
        "yhat = forward(x)\n",
        "print(\"The result:\", yhat)"
      ],
      "metadata": {
        "id": "gTgJCtpdGv23"
      },
      "execution_count": null,
      "outputs": []
    },
    {
      "cell_type": "markdown",
      "source": [],
      "metadata": {
        "id": "hnYsA0a8G5_l"
      }
    },
    {
      "cell_type": "code",
      "source": [
        "# Create a sample tensor X (multiple inputs)\n",
        "X = torch.tensor([[1.0, 1.0], [1.0, 2.0], [1.0, 3.0]])"
      ],
      "metadata": {
        "id": "h6ZCkcMTGxUL"
      },
      "execution_count": null,
      "outputs": []
    },
    {
      "cell_type": "code",
      "source": [
        "# Calculate yhat for multiple inputs\n",
        "yhat = forward(X)\n",
        "print(\"The result:\", yhat)"
      ],
      "metadata": {
        "id": "OAW20mXgGysi"
      },
      "execution_count": null,
      "outputs": []
    },
    {
      "cell_type": "markdown",
      "source": [
        "# Class Linear"
      ],
      "metadata": {
        "id": "w95SIE83G0me"
      }
    },
    {
      "cell_type": "code",
      "source": [
        "# Create a linear regression model using nn.Linear\n",
        "model = nn.Linear(2, 1)"
      ],
      "metadata": {
        "id": "ExvSek9bGzoC"
      },
      "execution_count": null,
      "outputs": []
    },
    {
      "cell_type": "code",
      "source": [
        "# Make a prediction for a single input\n",
        "yhat = model(x)\n",
        "print(\"The result:\", yhat)"
      ],
      "metadata": {
        "id": "1PZZw6I_G2a8"
      },
      "execution_count": null,
      "outputs": []
    },
    {
      "cell_type": "code",
      "source": [
        "# Make a prediction for multiple inputs\n",
        "yhat = model(X)\n",
        "print(\"The result:\", yhat)"
      ],
      "metadata": {
        "id": "YwwuaW0vG3h-"
      },
      "execution_count": null,
      "outputs": []
    },
    {
      "cell_type": "markdown",
      "source": [
        "# Build custom linear model"
      ],
      "metadata": {
        "id": "g2y6bWmqG75r"
      }
    },
    {
      "cell_type": "code",
      "source": [
        "# Create a custom linear regression class\n",
        "class linear_regression(nn.Module):\n",
        "    \"\"\"\n",
        "    Custom linear regression class.\n",
        "\n",
        "    Description:\n",
        "    This class defines a custom linear regression model using PyTorch's nn.Module. The constructor (__init__)\n",
        "    initializes the linear regression model with the specified input and output sizes. The model consists of a\n",
        "    single linear layer. The forward method performs the forward pass through the model, calculating the predictions\n",
        "    (yhat) based on the input data (x).\n",
        "\n",
        "    Args:\n",
        "    input_size (int): Number of input features.\n",
        "    output_size (int): Number of output features.\n",
        "\n",
        "    Attributes:\n",
        "    linear (nn.Linear): Linear layer representing the linear regression model.\n",
        "\n",
        "    Methods:\n",
        "    forward(x): Perform a forward pass through the model.\n",
        "\n",
        "    Example:\n",
        "    model = linear_regression(input_size=2, output_size=1)\n",
        "    yhat = model(x)\n",
        "    \"\"\"\n",
        "\n",
        "    def __init__(self, input_size, output_size):\n",
        "        \"\"\"\n",
        "        Initialize the linear regression model.\n",
        "\n",
        "        Args:\n",
        "        input_size (int): Number of input features.\n",
        "        output_size (int): Number of output features.\n",
        "        \"\"\"\n",
        "        super(linear_regression, self).__init__()\n",
        "        self.linear = nn.Linear(input_size, output_size)\n",
        "\n",
        "    def forward(self, x):\n",
        "        \"\"\"\n",
        "        Perform a forward pass through the model.\n",
        "\n",
        "        Args:\n",
        "        x (torch.Tensor): Input data tensor.\n",
        "\n",
        "        Returns:\n",
        "        torch.Tensor: Model's predictions (yhat).\n",
        "        \"\"\"\n",
        "        yhat = self.linear(x)\n",
        "        return yhat"
      ],
      "metadata": {
        "id": "0LnLAEPhG4st"
      },
      "execution_count": null,
      "outputs": []
    },
    {
      "cell_type": "code",
      "source": [
        "# Create the custom linear regression model\n",
        "model = linear_regression(2, 1)"
      ],
      "metadata": {
        "id": "YRnudLTgG_uN"
      },
      "execution_count": null,
      "outputs": []
    },
    {
      "cell_type": "code",
      "source": [
        "# Print model parameters\n",
        "print(\"The parameters:\", list(model.parameters()))"
      ],
      "metadata": {
        "id": "O4FY8MzcHA6H"
      },
      "execution_count": null,
      "outputs": []
    },
    {
      "cell_type": "code",
      "source": [
        "# Display model parameters using state_dict()\n",
        "print(\"The parameters:\", model.state_dict())"
      ],
      "metadata": {
        "id": "9U-AXM3NHB8S"
      },
      "execution_count": null,
      "outputs": []
    },
    {
      "cell_type": "code",
      "source": [
        "# Make a prediction for single input\n",
        "yhat = model(x)\n",
        "print(\"The result:\", yhat)"
      ],
      "metadata": {
        "id": "NnkqZG8aHDGw"
      },
      "execution_count": null,
      "outputs": []
    },
    {
      "cell_type": "code",
      "source": [
        "# Make a prediction for multiple inputs\n",
        "yhat = model(X)\n",
        "print(\"The result:\", yhat)"
      ],
      "metadata": {
        "id": "uFbHTMOWHENx"
      },
      "execution_count": null,
      "outputs": []
    },
    {
      "cell_type": "code",
      "source": [
        "# Practice: Build a model to predict the following data\n",
        "X = torch.tensor([[11.0, 12.0, 13.0, 14.0], [11.0, 12.0, 13.0, 14.0]])"
      ],
      "metadata": {
        "id": "JGLu5UdrHFCz"
      },
      "execution_count": null,
      "outputs": []
    },
    {
      "cell_type": "markdown",
      "source": [
        "# Linear regression with multiple outputs"
      ],
      "metadata": {
        "id": "gxHe6tkqHHWK"
      }
    },
    {
      "cell_type": "code",
      "source": [
        "# Define a function to plot 2D plane\n",
        "def Plot_2D_Plane(model, dataset, n=0):\n",
        "    \"\"\"\n",
        "    Plot the estimated 2D plane based on model's parameters and dataset.\n",
        "\n",
        "    Args:\n",
        "    model (nn.Module): The linear regression model.\n",
        "    dataset (Dataset): The dataset containing input data and labels.\n",
        "    n (int, optional): Iteration number. Default is 0.\n",
        "\n",
        "    Description:\n",
        "    This function extracts the weight (w1, w2) and bias (b) parameters from the model's state_dict.\n",
        "    It also extracts the dataset's features (x1, x2) and labels (y). The function then generates a plane using\n",
        "    the extracted parameters and plots it along with the data points. The contour of the plane is displayed as\n",
        "    well as the data points. The plot provides a visualization of the model's estimated plane for the given dataset.\n",
        "    \"\"\"\n",
        "\n",
        "    w1 = model.state_dict()['linear.weight'].numpy()[0][0]\n",
        "    w2 = model.state_dict()['linear.weight'].numpy()[0][1]\n",
        "    b = model.state_dict()['linear.bias'].numpy()\n",
        "\n",
        "    x1 = dataset.x[:, 0].view(-1, 1).numpy()\n",
        "    x2 = dataset.x[:, 1].view(-1, 1).numpy()\n",
        "    y = dataset.y.numpy()\n",
        "\n",
        "    X, Y = np.meshgrid(np.arange(x1.min(), x1.max(), 0.05), np.arange(x2.min(), x2.max(), 0.05))\n",
        "    yhat = w1 * X + w2 * Y + b\n",
        "\n",
        "    plt.figure()\n",
        "    plt.plot(x1[:, 0], x2[:, 0], 'ro', label='y')\n",
        "    plt.contourf(X, Y, yhat, alpha=0.3)\n",
        "    plt.xlabel('x1')\n",
        "    plt.ylabel('x2')\n",
        "    plt.title('Estimated Plane Iteration:' + str(n))\n",
        "    plt.legend()\n",
        "    plt.show()\n",
        "\n",
        "\n",
        "# Create 2D dataset class\n",
        "class Data2D(Dataset):\n",
        "    \"\"\"\n",
        "    2D dataset class.\n",
        "\n",
        "    Description:\n",
        "    This class defines a 2D dataset for linear regression. It initializes the dataset with data points and labels.\n",
        "    The dataset consists of two features (x1, x2) and corresponding labels (y). The constructor sets up the dataset\n",
        "    and provides methods (__getitem__ and __len__) to retrieve individual data points and the length of the dataset.\n",
        "    \"\"\"\n",
        "\n",
        "    def __init__(self):\n",
        "        self.x = torch.zeros(20, 2)\n",
        "        self.x[:, 0] = torch.arange(-1, 1, 0.1)\n",
        "        self.x[:, 1] = torch.arange(-1, 1, 0.1)\n",
        "        self.w = torch.tensor([[1.0], [1.0]])\n",
        "        self.b = 1\n",
        "        self.f = torch.mm(self.x, self.w) + self.b\n",
        "        self.y = self.f + 0.1 * torch.randn((self.x.shape[0], 1))\n",
        "        self.len = self.x.shape[0]\n",
        "\n",
        "    def __getitem__(self, index):\n",
        "        \"\"\"\n",
        "        Get a single data point and its label.\n",
        "\n",
        "        Args:\n",
        "        index (int): Index of the data point to retrieve.\n",
        "\n",
        "        Returns:\n",
        "        torch.Tensor: Input data point (x) and its label (y).\n",
        "        \"\"\"\n",
        "        return self.x[index], self.y[index]\n",
        "\n",
        "    def __len__(self):\n",
        "        \"\"\"\n",
        "        Get the length of the dataset.\n",
        "\n",
        "        Returns:\n",
        "        int: Length of the dataset.\n",
        "        \"\"\"\n",
        "        return self.len"
      ],
      "metadata": {
        "id": "qcgDry9BHGSs"
      },
      "execution_count": null,
      "outputs": []
    },
    {
      "cell_type": "code",
      "source": [
        "# Create the dataset object\n",
        "data_set = Data2D()"
      ],
      "metadata": {
        "id": "128hUQh_HMNM"
      },
      "execution_count": null,
      "outputs": []
    },
    {
      "cell_type": "code",
      "source": [
        "# Create linear regression model with custom class\n",
        "class linear_regression(nn.Module):\n",
        "    \"\"\"\n",
        "    Linear regression model class.\n",
        "\n",
        "    Args:\n",
        "    input_size (int): The number of input features.\n",
        "    output_size (int): The number of output features.\n",
        "\n",
        "    Description:\n",
        "    This class defines a linear regression model using PyTorch's nn.Module as the base class. It consists of two main parts:\n",
        "    1. Constructor (__init__): Initializes the linear regression model by creating a linear layer (self.linear) that maps the input\n",
        "       features to the output features. The input_size and output_size arguments determine the dimensions of the linear layer's\n",
        "       weight and bias parameters.\n",
        "    2. Forward Pass (forward): Implements the forward pass of the model. Given an input tensor x, this method applies the linear\n",
        "       transformation defined by self.linear to compute the predicted outputs (yhat).\n",
        "\n",
        "    By inheriting from nn.Module, this class gains the ability to automatically track and manage its learnable parameters.\n",
        "    \"\"\"\n",
        "\n",
        "    def __init__(self, input_size, output_size):\n",
        "        super(linear_regression, self).__init__()\n",
        "        # Create a linear layer that maps input_size to output_size\n",
        "        self.linear = nn.Linear(input_size, output_size)\n",
        "\n",
        "    def forward(self, x):\n",
        "        \"\"\"\n",
        "        Perform the forward pass of the linear regression model.\n",
        "\n",
        "        Args:\n",
        "        x (torch.Tensor): Input tensor containing data samples.\n",
        "\n",
        "        Returns:\n",
        "        torch.Tensor: Predicted outputs (yhat) of the linear regression model.\n",
        "        \"\"\"\n",
        "        # Apply the linear transformation to the input tensor x\n",
        "        yhat = self.linear(x)\n",
        "        return yhat"
      ],
      "metadata": {
        "id": "-i9NUoJ9HRu3"
      },
      "execution_count": null,
      "outputs": []
    },
    {
      "cell_type": "code",
      "source": [
        "# Create model, optimizer, and cost function\n",
        "model = linear_regression(2, 1)\n",
        "optimizer = optim.SGD(model.parameters(), lr=0.1)\n",
        "criterion = nn.MSELoss()\n",
        "train_loader = DataLoader(dataset=data_set, batch_size=2)"
      ],
      "metadata": {
        "id": "w-4AGji4HTOf"
      },
      "execution_count": null,
      "outputs": []
    },
    {
      "cell_type": "code",
      "source": [
        "# Train the model using Mini-Batch Gradient Descent\n",
        "LOSS = []\n",
        "print(\"Before Training:\")\n",
        "Plot_2D_Plane(model, data_set)\n",
        "epochs = 100"
      ],
      "metadata": {
        "id": "row0FVq0HUf0"
      },
      "execution_count": null,
      "outputs": []
    },
    {
      "cell_type": "code",
      "source": [
        "def train_model(epochs):\n",
        "    \"\"\"\n",
        "    Train the linear regression model using Mini-Batch Gradient Descent.\n",
        "\n",
        "    Args:\n",
        "    epochs (int): The number of training epochs.\n",
        "\n",
        "    Description:\n",
        "    This function iterates through the training data using mini-batches and performs the following steps in each epoch:\n",
        "    - Forward pass: Compute the predicted outputs (yhat) of the model using the input features (x).\n",
        "    - Calculate the loss between the predicted outputs and the actual labels (y) using the criterion.\n",
        "    - Backpropagation: Compute the gradients of the model's parameters with respect to the loss.\n",
        "    - Optimization: Update the model's parameters using the computed gradients and the optimizer.\n",
        "    - Record the loss for the current batch in the LOSS list.\n",
        "\n",
        "    After training for the specified number of epochs, the LOSS list will contain the recorded losses for all batches\n",
        "    and iterations during training.\n",
        "    \"\"\"\n",
        "    for epoch in range(epochs):\n",
        "        for x, y in train_loader:\n",
        "            # Perform forward pass\n",
        "            yhat = model(x)\n",
        "\n",
        "            # Compute the loss\n",
        "            loss = criterion(yhat, y)\n",
        "\n",
        "            # Clear gradients\n",
        "            optimizer.zero_grad()\n",
        "\n",
        "            # Perform backpropagation\n",
        "            loss.backward()\n",
        "\n",
        "            # Update model parameters\n",
        "            optimizer.step()\n",
        "\n",
        "            # Record the loss for this iteration\n",
        "            LOSS.append(loss.item())"
      ],
      "metadata": {
        "id": "sIxTi-2gHVws"
      },
      "execution_count": null,
      "outputs": []
    },
    {
      "cell_type": "code",
      "source": [
        "# Train the model (model1)\n",
        "train_model(epochs)\n",
        "print(\"After Training:\")\n",
        "Plot_2D_Plane(model, data_set, epochs)"
      ],
      "metadata": {
        "id": "UvzTT4OJHdZ2"
      },
      "execution_count": null,
      "outputs": []
    },
    {
      "cell_type": "code",
      "source": [
        "# Plot Loss vs. Iterations\n",
        "plt.plot(LOSS)\n",
        "plt.xlabel(\"Iterations\")\n",
        "plt.ylabel(\"Cost/Total Loss\")"
      ],
      "metadata": {
        "id": "vlPxFN3IHiWH"
      },
      "execution_count": null,
      "outputs": []
    },
    {
      "cell_type": "markdown",
      "source": [
        "# Additional: mini-batch gradient descent"
      ],
      "metadata": {
        "id": "qNDJKiHVHlBy"
      }
    },
    {
      "cell_type": "code",
      "source": [
        "# Create a data loader with batch size n for the data_set\n",
        "train_loader = DataLoader(dataset=data_set, batch_size=30)\n",
        "\n",
        "# Create an instance of the linear_regression model (model1)\n",
        "model1 = linear_regression(2, 1)\n",
        "\n",
        "# Create an optimizer (SGD) for model1\n",
        "optimizer = optim.SGD(model1.parameters(), lr=0.1)\n",
        "\n",
        "# Initialize an empty list to store the losses during training\n",
        "LOSS1 = []\n"
      ],
      "metadata": {
        "id": "9h-0GlQrHlWe"
      },
      "execution_count": null,
      "outputs": []
    },
    {
      "cell_type": "code",
      "source": [
        "def train_model(epochs):\n",
        "    \"\"\"\n",
        "    Train the linear regression model using mini-batch gradient descent.\n",
        "\n",
        "    Args:\n",
        "        epochs (int): Number of training epochs.\n",
        "\n",
        "    Returns:\n",
        "        None\n",
        "    \"\"\"\n",
        "    for epoch in range(epochs):\n",
        "        for x, y in train_loader:\n",
        "            # Forward pass: compute predicted y\n",
        "            yhat = model1(x)\n",
        "\n",
        "            # Compute the loss\n",
        "            loss = criterion(yhat, y)\n",
        "\n",
        "            # Zero the gradients\n",
        "            optimizer.zero_grad()\n",
        "\n",
        "            # Backpropagation: compute gradients of the loss with respect to model parameters\n",
        "            loss.backward()\n",
        "\n",
        "            # Update the model parameters\n",
        "            optimizer.step()\n",
        "\n",
        "            # Append the current loss value to the loss list\n",
        "            LOSS1.append(loss.item())\n"
      ],
      "metadata": {
        "id": "HFG51mrDHnH2"
      },
      "execution_count": null,
      "outputs": []
    },
    {
      "cell_type": "code",
      "source": [
        "# Train the model using mini-batch gradient descent\n",
        "train_model(epochs)\n",
        "\n",
        "# Plot the 2D plane showing the model's predictions\n",
        "# and the actual data points from the dataset\n",
        "Plot_2D_Plane(model1, data_set)\n",
        "\n",
        "# Plot the loss values over iterations\n",
        "plt.plot(LOSS1)\n",
        "plt.xlabel(\"Iterations\")\n",
        "plt.ylabel(\"Cost/Total Loss\")"
      ],
      "metadata": {
        "id": "Z9wZ27UbHnO4"
      },
      "execution_count": null,
      "outputs": []
    },
    {
      "cell_type": "code",
      "source": [
        "# Use validation data to calculate losses for both models\n",
        "torch.manual_seed(2)\n",
        "validation_data = Data2D()\n",
        "Y = validation_data.y\n",
        "X = validation_data.x"
      ],
      "metadata": {
        "id": "nQBvMr5rHnUI"
      },
      "execution_count": null,
      "outputs": []
    },
    {
      "cell_type": "code",
      "source": [
        "# Calculate and print the total loss or cost for the trained model\n",
        "print(\"Total loss or cost for model:\", criterion(model(X), Y))\n",
        "\n",
        "# Calculate and print the total loss or cost for the second model (model1)\n",
        "print(\"Total loss or cost for model1:\", criterion(model1(X), Y))"
      ],
      "metadata": {
        "id": "7H74gBjWHrB8"
      },
      "execution_count": null,
      "outputs": []
    },
    {
      "cell_type": "code",
      "source": [
        "# Create a model with 4 input features and 1 output\n",
        "model = nn.Linear(4, 1)\n",
        "list(model.parameters())"
      ],
      "metadata": {
        "id": "bTye5W95HsKm"
      },
      "execution_count": null,
      "outputs": []
    }
  ]
}